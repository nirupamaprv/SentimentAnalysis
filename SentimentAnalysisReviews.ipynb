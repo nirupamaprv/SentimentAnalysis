{
 "cells": [
  {
   "cell_type": "code",
   "execution_count": 1,
   "metadata": {
    "colab": {
     "base_uri": "https://localhost:8080/"
    },
    "executionInfo": {
     "elapsed": 2211,
     "status": "ok",
     "timestamp": 1622142669502,
     "user": {
      "displayName": "Nirupama P R Venkataraman",
      "photoUrl": "https://lh3.googleusercontent.com/a-/AOh14GjQozK0fcxw0uaZ6-aEN1fG-kxCF0xySY_qs9DpjPE=s64",
      "userId": "04062240736111119472"
     },
     "user_tz": 240
    },
    "id": "x1HU16FaPG4u",
    "outputId": "72f81112-02ef-41b9-a4c1-2b221eec6bee"
   },
   "outputs": [
    {
     "name": "stderr",
     "output_type": "stream",
     "text": [
      "[nltk_data] Downloading package vader_lexicon to\n",
      "[nltk_data]     /Users/sriramranganathan/nltk_data...\n",
      "[nltk_data]   Package vader_lexicon is already up-to-date!\n",
      "[nltk_data] Downloading package punkt to\n",
      "[nltk_data]     /Users/sriramranganathan/nltk_data...\n",
      "[nltk_data]   Package punkt is already up-to-date!\n"
     ]
    },
    {
     "data": {
      "text/plain": [
       "True"
      ]
     },
     "execution_count": 1,
     "metadata": {},
     "output_type": "execute_result"
    }
   ],
   "source": [
    "import nltk\n",
    "nltk.download('vader_lexicon')\n",
    "nltk.download('punkt')"
   ]
  },
  {
   "cell_type": "code",
   "execution_count": 2,
   "metadata": {
    "colab": {
     "base_uri": "https://localhost:8080/"
    },
    "executionInfo": {
     "elapsed": 163,
     "status": "ok",
     "timestamp": 1622142705840,
     "user": {
      "displayName": "Nirupama P R Venkataraman",
      "photoUrl": "https://lh3.googleusercontent.com/a-/AOh14GjQozK0fcxw0uaZ6-aEN1fG-kxCF0xySY_qs9DpjPE=s64",
      "userId": "04062240736111119472"
     },
     "user_tz": 240
    },
    "id": "oIvkrEtkPSQW",
    "outputId": "c34451d1-6a72-4961-c698-f70269193a08"
   },
   "outputs": [],
   "source": [
    "# first, we import the relevant modules from the NLTK library\n",
    "from nltk.sentiment.vader import SentimentIntensityAnalyzer\n",
    "# next, we initialize VADER so we can use it within our Python script\n",
    "sid = SentimentIntensityAnalyzer()"
   ]
  },
  {
   "cell_type": "code",
   "execution_count": 3,
   "metadata": {
    "id": "CGudaA9vPSTK"
   },
   "outputs": [],
   "source": [
    "#print(message_text)\n",
    "def msg_senti(message_text):\n",
    "    # Calling the polarity_scores method on sid and passing in the message_text outputs a dictionary with negative, neutral, positive, and compound scores for the input text\n",
    "    scores = sid.polarity_scores(message_text)\n",
    "    # Here we loop through the keys contained in scores (pos, neu, neg, and compound scores) and print the key-value pairs on the screen\n",
    "    for key in sorted(scores):\n",
    "        print('{0}: {1}, '.format(key, scores[key]), end='')"
   ]
  },
  {
   "cell_type": "code",
   "execution_count": 4,
   "metadata": {
    "colab": {
     "base_uri": "https://localhost:8080/"
    },
    "executionInfo": {
     "elapsed": 147,
     "status": "ok",
     "timestamp": 1622142779541,
     "user": {
      "displayName": "Nirupama P R Venkataraman",
      "photoUrl": "https://lh3.googleusercontent.com/a-/AOh14GjQozK0fcxw0uaZ6-aEN1fG-kxCF0xySY_qs9DpjPE=s64",
      "userId": "04062240736111119472"
     },
     "user_tz": 240
    },
    "id": "fXOYal7WPSVt",
    "outputId": "f6bf589b-931f-404b-dd01-f05d4a2a8c7a"
   },
   "outputs": [
    {
     "name": "stdout",
     "output_type": "stream",
     "text": [
      "compound: -0.3804, neg: 0.093, neu: 0.836, pos: 0.071, "
     ]
    }
   ],
   "source": [
    "# the variable 'message_text' now contains the text we will analyze.\n",
    "message_text = '''Like you, I am getting very frustrated with this process. I am genuinely trying to be as reasonable as possible. I am not trying to \"hold up\" the deal at the last minute. I'm afraid that I am being asked to take a fairly large leap of faith after this company (I don't mean the two of you -- I mean Enron) has screwed me and the people who work for me.'''\n",
    "\n",
    "msg_senti(message_text)"
   ]
  },
  {
   "cell_type": "code",
   "execution_count": 5,
   "metadata": {
    "colab": {
     "base_uri": "https://localhost:8080/"
    },
    "executionInfo": {
     "elapsed": 344,
     "status": "ok",
     "timestamp": 1622142815056,
     "user": {
      "displayName": "Nirupama P R Venkataraman",
      "photoUrl": "https://lh3.googleusercontent.com/a-/AOh14GjQozK0fcxw0uaZ6-aEN1fG-kxCF0xySY_qs9DpjPE=s64",
      "userId": "04062240736111119472"
     },
     "user_tz": 240
    },
    "id": "T-K1DHRcPSY2",
    "outputId": "cfd7f103-1830-42a2-b921-e3f1b523d4a8"
   },
   "outputs": [
    {
     "name": "stdout",
     "output_type": "stream",
     "text": [
      "compound: 0.4627, neg: 0.081, neu: 0.762, pos: 0.156, "
     ]
    }
   ],
   "source": [
    "message_text1= '''\n",
    "Blogging and writing can feel lonely. \n",
    "And since may of us, write to pour our thoughts out, we don’t share as often. \n",
    "So, we miss out on the bonding and comfort that comes from being part of a group- \n",
    "with shared experiences, similar goals and aspirations and challenges.\n",
    "'''\n",
    "msg_senti(message_text1)"
   ]
  },
  {
   "cell_type": "code",
   "execution_count": 6,
   "metadata": {
    "colab": {
     "base_uri": "https://localhost:8080/"
    },
    "executionInfo": {
     "elapsed": 132,
     "status": "ok",
     "timestamp": 1622142907782,
     "user": {
      "displayName": "Nirupama P R Venkataraman",
      "photoUrl": "https://lh3.googleusercontent.com/a-/AOh14GjQozK0fcxw0uaZ6-aEN1fG-kxCF0xySY_qs9DpjPE=s64",
      "userId": "04062240736111119472"
     },
     "user_tz": 240
    },
    "id": "_IHFV3nRPSbG",
    "outputId": "217af027-8541-48cc-f305-88a1c50a327f"
   },
   "outputs": [
    {
     "name": "stdout",
     "output_type": "stream",
     "text": [
      "compound: -0.7955, neg: 0.876, neu: 0.124, pos: 0.0, "
     ]
    }
   ],
   "source": [
    "message_text2= '''\n",
    "I hate this! Ugh!\n",
    "'''\n",
    "msg_senti(message_text2)"
   ]
  },
  {
   "cell_type": "code",
   "execution_count": null,
   "metadata": {
    "id": "CGAhnH_3PSes"
   },
   "outputs": [],
   "source": []
  },
  {
   "cell_type": "code",
   "execution_count": 7,
   "metadata": {
    "colab": {
     "base_uri": "https://localhost:8080/"
    },
    "executionInfo": {
     "elapsed": 138,
     "status": "ok",
     "timestamp": 1622144108369,
     "user": {
      "displayName": "Nirupama P R Venkataraman",
      "photoUrl": "https://lh3.googleusercontent.com/a-/AOh14GjQozK0fcxw0uaZ6-aEN1fG-kxCF0xySY_qs9DpjPE=s64",
      "userId": "04062240736111119472"
     },
     "user_tz": 240
    },
    "id": "c1nfnhUoPSk_",
    "outputId": "abada5ce-c7e7-46c6-d467-e2dc95643182"
   },
   "outputs": [
    {
     "name": "stdout",
     "output_type": "stream",
     "text": [
      "Sentiment Score is  -0.7955\n",
      "Sentiment Score is  0.8757\n"
     ]
    }
   ],
   "source": [
    "def msg_senti1(message_text):\n",
    "    # Calling the polarity_scores method on sid and passing in the message_text outputs a dictionary with negative, neutral, positive, and compound scores for the input text\n",
    "    scores = sid.polarity_scores(message_text)\n",
    "    # Here we loop through the keys contained in scores (pos, neu, neg, and compound scores) and print the key-value pairs on the screen\n",
    "    #print(scores.keys())\n",
    "    for key in sorted(scores):\n",
    "        #print('{0}: {1}, '.format(key, scores[key]), end='')\n",
    "        a= scores['compound']\n",
    "        return a\n",
    "  \n",
    "a= msg_senti1(message_text2)\n",
    "print(\"Sentiment Score is \",a)\n",
    "\n",
    "b= msg_senti1(\"Love this. WOW!\")\n",
    "print(\"Sentiment Score is \",b)"
   ]
  },
  {
   "cell_type": "code",
   "execution_count": 8,
   "metadata": {
    "colab": {
     "base_uri": "https://localhost:8080/"
    },
    "executionInfo": {
     "elapsed": 145,
     "status": "ok",
     "timestamp": 1622144394053,
     "user": {
      "displayName": "Nirupama P R Venkataraman",
      "photoUrl": "https://lh3.googleusercontent.com/a-/AOh14GjQozK0fcxw0uaZ6-aEN1fG-kxCF0xySY_qs9DpjPE=s64",
      "userId": "04062240736111119472"
     },
     "user_tz": 240
    },
    "id": "3xSZLAPqU4MI",
    "outputId": "fc473475-ad77-4971-c61f-e70583f098d8"
   },
   "outputs": [
    {
     "name": "stdout",
     "output_type": "stream",
     "text": [
      "Negative\n",
      "Positive\n"
     ]
    }
   ],
   "source": [
    "def analyze_senti(message_text):\n",
    "  if (msg_senti1(message_text) >= 0.7):\n",
    "     return \"Positive\"\n",
    "  elif (msg_senti1(message_text) <= -0.7):\n",
    "     return \"Negative\"\n",
    "  else:\n",
    "    return \"Mixed\"\n",
    "\n",
    "print(analyze_senti(message_text2))\n",
    "print(analyze_senti(\"Love this. WOW!\"))"
   ]
  },
  {
   "cell_type": "code",
   "execution_count": 9,
   "metadata": {
    "id": "JHjYyiRTV_I2"
   },
   "outputs": [],
   "source": [
    "import pandas as pd\n",
    "import csv # read and write csv files\n",
    "from datetime import datetime # operations to parse dates\n",
    "\n",
    "import matplotlib.pyplot as plt\n",
    "%matplotlib inline"
   ]
  },
  {
   "cell_type": "code",
   "execution_count": 10,
   "metadata": {
    "colab": {
     "base_uri": "https://localhost:8080/",
     "height": 409
    },
    "executionInfo": {
     "elapsed": 304,
     "status": "error",
     "timestamp": 1622146013648,
     "user": {
      "displayName": "Nirupama P R Venkataraman",
      "photoUrl": "https://lh3.googleusercontent.com/a-/AOh14GjQozK0fcxw0uaZ6-aEN1fG-kxCF0xySY_qs9DpjPE=s64",
      "userId": "04062240736111119472"
     },
     "user_tz": 240
    },
    "id": "gOE2l-L1V_MK",
    "outputId": "645d041d-8fa4-416e-b53e-6e3ec4f054c1"
   },
   "outputs": [
    {
     "name": "stdout",
     "output_type": "stream",
     "text": [
      "<class 'pandas.core.frame.DataFrame'>\n",
      "RangeIndex: 3150 entries, 0 to 3149\n",
      "Data columns (total 5 columns):\n",
      " #   Column            Non-Null Count  Dtype \n",
      "---  ------            --------------  ----- \n",
      " 0   rating            3150 non-null   int64 \n",
      " 1   date              3150 non-null   object\n",
      " 2   variation         3150 non-null   object\n",
      " 3   verified_reviews  3150 non-null   object\n",
      " 4   feedback          3150 non-null   int64 \n",
      "dtypes: int64(2), object(3)\n",
      "memory usage: 123.2+ KB\n"
     ]
    }
   ],
   "source": [
    "df = pd.read_csv(\"amazon_alexa.tsv\", sep='\\t')\n",
    "df.info()"
   ]
  },
  {
   "cell_type": "code",
   "execution_count": 11,
   "metadata": {},
   "outputs": [],
   "source": [
    "def token_split(x):\n",
    "    return nltk.word_tokenize(x)"
   ]
  },
  {
   "cell_type": "code",
   "execution_count": 12,
   "metadata": {
    "id": "oA4Fa18QV_Oe"
   },
   "outputs": [],
   "source": [
    "df['review_tokens']=df['verified_reviews'].apply(token_split)"
   ]
  },
  {
   "cell_type": "code",
   "execution_count": 13,
   "metadata": {
    "id": "Jxi9VchdV_RO"
   },
   "outputs": [
    {
     "name": "stdout",
     "output_type": "stream",
     "text": [
      "<class 'pandas.core.frame.DataFrame'>\n",
      "RangeIndex: 3150 entries, 0 to 3149\n",
      "Data columns (total 6 columns):\n",
      " #   Column            Non-Null Count  Dtype \n",
      "---  ------            --------------  ----- \n",
      " 0   rating            3150 non-null   int64 \n",
      " 1   date              3150 non-null   object\n",
      " 2   variation         3150 non-null   object\n",
      " 3   verified_reviews  3150 non-null   object\n",
      " 4   feedback          3150 non-null   int64 \n",
      " 5   review_tokens     3150 non-null   object\n",
      "dtypes: int64(2), object(4)\n",
      "memory usage: 147.8+ KB\n"
     ]
    }
   ],
   "source": [
    "df.info()"
   ]
  },
  {
   "cell_type": "code",
   "execution_count": 14,
   "metadata": {
    "id": "Sb9KmQVRV_T8"
   },
   "outputs": [
    {
     "data": {
      "text/html": [
       "<div>\n",
       "<style scoped>\n",
       "    .dataframe tbody tr th:only-of-type {\n",
       "        vertical-align: middle;\n",
       "    }\n",
       "\n",
       "    .dataframe tbody tr th {\n",
       "        vertical-align: top;\n",
       "    }\n",
       "\n",
       "    .dataframe thead th {\n",
       "        text-align: right;\n",
       "    }\n",
       "</style>\n",
       "<table border=\"1\" class=\"dataframe\">\n",
       "  <thead>\n",
       "    <tr style=\"text-align: right;\">\n",
       "      <th></th>\n",
       "      <th>rating</th>\n",
       "      <th>date</th>\n",
       "      <th>variation</th>\n",
       "      <th>verified_reviews</th>\n",
       "      <th>feedback</th>\n",
       "      <th>review_tokens</th>\n",
       "    </tr>\n",
       "  </thead>\n",
       "  <tbody>\n",
       "    <tr>\n",
       "      <th>0</th>\n",
       "      <td>5</td>\n",
       "      <td>31-Jul-18</td>\n",
       "      <td>Charcoal Fabric</td>\n",
       "      <td>Love my Echo!</td>\n",
       "      <td>1</td>\n",
       "      <td>[Love, my, Echo, !]</td>\n",
       "    </tr>\n",
       "    <tr>\n",
       "      <th>1</th>\n",
       "      <td>5</td>\n",
       "      <td>31-Jul-18</td>\n",
       "      <td>Charcoal Fabric</td>\n",
       "      <td>Loved it!</td>\n",
       "      <td>1</td>\n",
       "      <td>[Loved, it, !]</td>\n",
       "    </tr>\n",
       "    <tr>\n",
       "      <th>2</th>\n",
       "      <td>4</td>\n",
       "      <td>31-Jul-18</td>\n",
       "      <td>Walnut Finish</td>\n",
       "      <td>Sometimes while playing a game, you can answer...</td>\n",
       "      <td>1</td>\n",
       "      <td>[Sometimes, while, playing, a, game, ,, you, c...</td>\n",
       "    </tr>\n",
       "    <tr>\n",
       "      <th>3</th>\n",
       "      <td>5</td>\n",
       "      <td>31-Jul-18</td>\n",
       "      <td>Charcoal Fabric</td>\n",
       "      <td>I have had a lot of fun with this thing. My 4 ...</td>\n",
       "      <td>1</td>\n",
       "      <td>[I, have, had, a, lot, of, fun, with, this, th...</td>\n",
       "    </tr>\n",
       "    <tr>\n",
       "      <th>4</th>\n",
       "      <td>5</td>\n",
       "      <td>31-Jul-18</td>\n",
       "      <td>Charcoal Fabric</td>\n",
       "      <td>Music</td>\n",
       "      <td>1</td>\n",
       "      <td>[Music]</td>\n",
       "    </tr>\n",
       "  </tbody>\n",
       "</table>\n",
       "</div>"
      ],
      "text/plain": [
       "   rating       date         variation  \\\n",
       "0       5  31-Jul-18  Charcoal Fabric    \n",
       "1       5  31-Jul-18  Charcoal Fabric    \n",
       "2       4  31-Jul-18    Walnut Finish    \n",
       "3       5  31-Jul-18  Charcoal Fabric    \n",
       "4       5  31-Jul-18  Charcoal Fabric    \n",
       "\n",
       "                                    verified_reviews  feedback  \\\n",
       "0                                      Love my Echo!         1   \n",
       "1                                          Loved it!         1   \n",
       "2  Sometimes while playing a game, you can answer...         1   \n",
       "3  I have had a lot of fun with this thing. My 4 ...         1   \n",
       "4                                              Music         1   \n",
       "\n",
       "                                       review_tokens  \n",
       "0                                [Love, my, Echo, !]  \n",
       "1                                     [Loved, it, !]  \n",
       "2  [Sometimes, while, playing, a, game, ,, you, c...  \n",
       "3  [I, have, had, a, lot, of, fun, with, this, th...  \n",
       "4                                            [Music]  "
      ]
     },
     "execution_count": 14,
     "metadata": {},
     "output_type": "execute_result"
    }
   ],
   "source": [
    "df.head()"
   ]
  },
  {
   "cell_type": "code",
   "execution_count": 15,
   "metadata": {
    "id": "OxWleYxuV_XM"
   },
   "outputs": [],
   "source": [
    "df['score']=df['verified_reviews'].apply(msg_senti1)"
   ]
  },
  {
   "cell_type": "code",
   "execution_count": 16,
   "metadata": {
    "id": "n5rIR4vAV_aJ"
   },
   "outputs": [
    {
     "name": "stdout",
     "output_type": "stream",
     "text": [
      "<class 'pandas.core.frame.DataFrame'>\n",
      "RangeIndex: 3150 entries, 0 to 3149\n",
      "Data columns (total 7 columns):\n",
      " #   Column            Non-Null Count  Dtype  \n",
      "---  ------            --------------  -----  \n",
      " 0   rating            3150 non-null   int64  \n",
      " 1   date              3150 non-null   object \n",
      " 2   variation         3150 non-null   object \n",
      " 3   verified_reviews  3150 non-null   object \n",
      " 4   feedback          3150 non-null   int64  \n",
      " 5   review_tokens     3150 non-null   object \n",
      " 6   score             3150 non-null   float64\n",
      "dtypes: float64(1), int64(2), object(4)\n",
      "memory usage: 172.4+ KB\n"
     ]
    },
    {
     "data": {
      "text/html": [
       "<div>\n",
       "<style scoped>\n",
       "    .dataframe tbody tr th:only-of-type {\n",
       "        vertical-align: middle;\n",
       "    }\n",
       "\n",
       "    .dataframe tbody tr th {\n",
       "        vertical-align: top;\n",
       "    }\n",
       "\n",
       "    .dataframe thead th {\n",
       "        text-align: right;\n",
       "    }\n",
       "</style>\n",
       "<table border=\"1\" class=\"dataframe\">\n",
       "  <thead>\n",
       "    <tr style=\"text-align: right;\">\n",
       "      <th></th>\n",
       "      <th>rating</th>\n",
       "      <th>date</th>\n",
       "      <th>variation</th>\n",
       "      <th>verified_reviews</th>\n",
       "      <th>feedback</th>\n",
       "      <th>review_tokens</th>\n",
       "      <th>score</th>\n",
       "    </tr>\n",
       "  </thead>\n",
       "  <tbody>\n",
       "    <tr>\n",
       "      <th>0</th>\n",
       "      <td>5</td>\n",
       "      <td>31-Jul-18</td>\n",
       "      <td>Charcoal Fabric</td>\n",
       "      <td>Love my Echo!</td>\n",
       "      <td>1</td>\n",
       "      <td>[Love, my, Echo, !]</td>\n",
       "      <td>0.6696</td>\n",
       "    </tr>\n",
       "    <tr>\n",
       "      <th>1</th>\n",
       "      <td>5</td>\n",
       "      <td>31-Jul-18</td>\n",
       "      <td>Charcoal Fabric</td>\n",
       "      <td>Loved it!</td>\n",
       "      <td>1</td>\n",
       "      <td>[Loved, it, !]</td>\n",
       "      <td>0.6360</td>\n",
       "    </tr>\n",
       "  </tbody>\n",
       "</table>\n",
       "</div>"
      ],
      "text/plain": [
       "   rating       date         variation verified_reviews  feedback  \\\n",
       "0       5  31-Jul-18  Charcoal Fabric     Love my Echo!         1   \n",
       "1       5  31-Jul-18  Charcoal Fabric         Loved it!         1   \n",
       "\n",
       "         review_tokens   score  \n",
       "0  [Love, my, Echo, !]  0.6696  \n",
       "1       [Loved, it, !]  0.6360  "
      ]
     },
     "execution_count": 16,
     "metadata": {},
     "output_type": "execute_result"
    }
   ],
   "source": [
    "df.info()\n",
    "df.head(2)"
   ]
  },
  {
   "cell_type": "code",
   "execution_count": 18,
   "metadata": {},
   "outputs": [],
   "source": [
    "#Remove stop words\n",
    "from nltk.corpus import stopwords\n",
    "\n",
    "english_stop_words = stopwords.words('english')\n",
    "def remove_stop_words(corpus):\n",
    "    removed_stop_words = []\n",
    "    for review in corpus:\n",
    "        removed_stop_words.append(\n",
    "            ' '.join([word for word in review.split() \n",
    "                      if word not in english_stop_words])\n",
    "        )\n",
    "    return removed_stop_words\n",
    "\n",
    "#no_stop_words = remove_stop_words(reviews_train_clean)"
   ]
  },
  {
   "cell_type": "code",
   "execution_count": 19,
   "metadata": {},
   "outputs": [],
   "source": [
    "df['review_tokens']=df['review_tokens'].apply(remove_stop_words)"
   ]
  },
  {
   "cell_type": "code",
   "execution_count": 26,
   "metadata": {},
   "outputs": [],
   "source": [
    "df['review_tokens']=df['review_tokens'].apply(lambda x: ','.join(map(str, x)))"
   ]
  },
  {
   "cell_type": "code",
   "execution_count": null,
   "metadata": {},
   "outputs": [],
   "source": []
  },
  {
   "cell_type": "code",
   "execution_count": 27,
   "metadata": {},
   "outputs": [
    {
     "data": {
      "text/html": [
       "<div>\n",
       "<style scoped>\n",
       "    .dataframe tbody tr th:only-of-type {\n",
       "        vertical-align: middle;\n",
       "    }\n",
       "\n",
       "    .dataframe tbody tr th {\n",
       "        vertical-align: top;\n",
       "    }\n",
       "\n",
       "    .dataframe thead th {\n",
       "        text-align: right;\n",
       "    }\n",
       "</style>\n",
       "<table border=\"1\" class=\"dataframe\">\n",
       "  <thead>\n",
       "    <tr style=\"text-align: right;\">\n",
       "      <th></th>\n",
       "      <th>rating</th>\n",
       "      <th>date</th>\n",
       "      <th>variation</th>\n",
       "      <th>verified_reviews</th>\n",
       "      <th>feedback</th>\n",
       "      <th>review_tokens</th>\n",
       "      <th>score</th>\n",
       "    </tr>\n",
       "  </thead>\n",
       "  <tbody>\n",
       "    <tr>\n",
       "      <th>3142</th>\n",
       "      <td>4</td>\n",
       "      <td>30-Jul-18</td>\n",
       "      <td>White  Dot</td>\n",
       "      <td>My three year old loves it.  Good for doing ba...</td>\n",
       "      <td>1</td>\n",
       "      <td>three,year,old,loves,,.,Good,,,basic,household...</td>\n",
       "      <td>0.8519</td>\n",
       "    </tr>\n",
       "    <tr>\n",
       "      <th>3143</th>\n",
       "      <td>5</td>\n",
       "      <td>30-Jul-18</td>\n",
       "      <td>Black  Dot</td>\n",
       "      <td>Awesome device wish I bought one ages ago.</td>\n",
       "      <td>1</td>\n",
       "      <td>device,wish,I,bought,one,ages,ago</td>\n",
       "      <td>0.7783</td>\n",
       "    </tr>\n",
       "    <tr>\n",
       "      <th>3144</th>\n",
       "      <td>5</td>\n",
       "      <td>30-Jul-18</td>\n",
       "      <td>Black  Dot</td>\n",
       "      <td>love it</td>\n",
       "      <td>1</td>\n",
       "      <td></td>\n",
       "      <td>0.6369</td>\n",
       "    </tr>\n",
       "    <tr>\n",
       "      <th>3145</th>\n",
       "      <td>5</td>\n",
       "      <td>30-Jul-18</td>\n",
       "      <td>Black  Dot</td>\n",
       "      <td>Perfect for kids, adults and everyone in betwe...</td>\n",
       "      <td>1</td>\n",
       "      <td>,kids,,,adults,,everyone,,,!</td>\n",
       "      <td>0.6467</td>\n",
       "    </tr>\n",
       "    <tr>\n",
       "      <th>3146</th>\n",
       "      <td>5</td>\n",
       "      <td>30-Jul-18</td>\n",
       "      <td>Black  Dot</td>\n",
       "      <td>Listening to music, searching locations, check...</td>\n",
       "      <td>1</td>\n",
       "      <td>,music,,,searching,locations,,,checking,time,,...</td>\n",
       "      <td>0.0000</td>\n",
       "    </tr>\n",
       "    <tr>\n",
       "      <th>3147</th>\n",
       "      <td>5</td>\n",
       "      <td>30-Jul-18</td>\n",
       "      <td>Black  Dot</td>\n",
       "      <td>I do love these things, i have them running my...</td>\n",
       "      <td>1</td>\n",
       "      <td>,love,,things,,,,,,running,,entire,home,,,TV,,...</td>\n",
       "      <td>0.9485</td>\n",
       "    </tr>\n",
       "    <tr>\n",
       "      <th>3148</th>\n",
       "      <td>5</td>\n",
       "      <td>30-Jul-18</td>\n",
       "      <td>White  Dot</td>\n",
       "      <td>Only complaint I have is that the sound qualit...</td>\n",
       "      <td>1</td>\n",
       "      <td>complaint,I,,,,,sound,quality,,n't,great,.,I,m...</td>\n",
       "      <td>0.0008</td>\n",
       "    </tr>\n",
       "    <tr>\n",
       "      <th>3149</th>\n",
       "      <td>4</td>\n",
       "      <td>29-Jul-18</td>\n",
       "      <td>Black  Dot</td>\n",
       "      <td>Good</td>\n",
       "      <td>1</td>\n",
       "      <td></td>\n",
       "      <td>0.4404</td>\n",
       "    </tr>\n",
       "  </tbody>\n",
       "</table>\n",
       "</div>"
      ],
      "text/plain": [
       "      rating       date   variation  \\\n",
       "3142       4  30-Jul-18  White  Dot   \n",
       "3143       5  30-Jul-18  Black  Dot   \n",
       "3144       5  30-Jul-18  Black  Dot   \n",
       "3145       5  30-Jul-18  Black  Dot   \n",
       "3146       5  30-Jul-18  Black  Dot   \n",
       "3147       5  30-Jul-18  Black  Dot   \n",
       "3148       5  30-Jul-18  White  Dot   \n",
       "3149       4  29-Jul-18  Black  Dot   \n",
       "\n",
       "                                       verified_reviews  feedback  \\\n",
       "3142  My three year old loves it.  Good for doing ba...         1   \n",
       "3143         Awesome device wish I bought one ages ago.         1   \n",
       "3144                                            love it         1   \n",
       "3145  Perfect for kids, adults and everyone in betwe...         1   \n",
       "3146  Listening to music, searching locations, check...         1   \n",
       "3147  I do love these things, i have them running my...         1   \n",
       "3148  Only complaint I have is that the sound qualit...         1   \n",
       "3149                                               Good         1   \n",
       "\n",
       "                                          review_tokens   score  \n",
       "3142  three,year,old,loves,,.,Good,,,basic,household...  0.8519  \n",
       "3143                  device,wish,I,bought,one,ages,ago  0.7783  \n",
       "3144                                                     0.6369  \n",
       "3145                       ,kids,,,adults,,everyone,,,!  0.6467  \n",
       "3146  ,music,,,searching,locations,,,checking,time,,...  0.0000  \n",
       "3147  ,love,,things,,,,,,running,,entire,home,,,TV,,...  0.9485  \n",
       "3148  complaint,I,,,,,sound,quality,,n't,great,.,I,m...  0.0008  \n",
       "3149                                                     0.4404  "
      ]
     },
     "execution_count": 27,
     "metadata": {},
     "output_type": "execute_result"
    }
   ],
   "source": [
    "df.tail(8)"
   ]
  },
  {
   "cell_type": "code",
   "execution_count": 28,
   "metadata": {
    "id": "C-5HcOGpV_cJ"
   },
   "outputs": [],
   "source": [
    "df.to_csv('AlexaReviews.csv',index=False)"
   ]
  },
  {
   "cell_type": "code",
   "execution_count": null,
   "metadata": {},
   "outputs": [],
   "source": []
  }
 ],
 "metadata": {
  "colab": {
   "authorship_tag": "ABX9TyP0/I09wvAh6l5L4sE2BGaV",
   "collapsed_sections": [],
   "name": "SentimentAnalysisReviews.ipynb",
   "provenance": []
  },
  "kernelspec": {
   "display_name": "Python 3",
   "language": "python",
   "name": "python3"
  },
  "language_info": {
   "codemirror_mode": {
    "name": "ipython",
    "version": 3
   },
   "file_extension": ".py",
   "mimetype": "text/x-python",
   "name": "python",
   "nbconvert_exporter": "python",
   "pygments_lexer": "ipython3",
   "version": "3.8.8"
  }
 },
 "nbformat": 4,
 "nbformat_minor": 1
}
